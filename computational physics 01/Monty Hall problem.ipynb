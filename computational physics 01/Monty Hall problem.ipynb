{
 "cells": [
  {
   "cell_type": "code",
   "execution_count": 17,
   "metadata": {},
   "outputs": [
    {
     "name": "stdout",
     "output_type": "stream",
     "text": [
      "0.3393\n"
     ]
    }
   ],
   "source": [
    "import random\n",
    "count=0\n",
    "for i in range(10000):\n",
    "    car_door=random.randint(1,3)\n",
    "    first_choice=random.randint(1,3)\n",
    "    if(first_choice==1):\n",
    "        Mc_choice=random.randint(2,3)\n",
    "        if(Mc_choice==2):\n",
    "            second_choice=3\n",
    "            if(car_door==second_choice):\n",
    "                count=count+1\n",
    "        if(Mc_choice==3):\n",
    "            second_choice=2\n",
    "            if(car_door==second_choice):\n",
    "                count=count+1\n",
    "    if(first_choice==3):\n",
    "        Mc_choice=random.randint(1,2)\n",
    "        if(Mc_choice==2):\n",
    "            second_choice=1\n",
    "            if(car_door==second_choice):\n",
    "                count=count+1\n",
    "        if(Mc_choice==1):\n",
    "            second_choice=2\n",
    "            if(car_door==second_choice):\n",
    "                count=count+1\n",
    "    if(first_choice==2):\n",
    "        A=[1,3]\n",
    "        b=random.randint(0,1)\n",
    "        Mc_choice=A[b]\n",
    "        if(Mc_choice==1):\n",
    "            second_choice=3\n",
    "            if(car_door==second_choice):\n",
    "                count=count+1\n",
    "        if(Mc_choice==3):\n",
    "            second_choice=1\n",
    "            if(car_door==second_choice):\n",
    "                count=count+1\n",
    "print(count/10000)\n",
    "        \n",
    "    "
   ]
  },
  {
   "cell_type": "code",
   "execution_count": 18,
   "metadata": {},
   "outputs": [
    {
     "name": "stdout",
     "output_type": "stream",
     "text": [
      "0.3276\n"
     ]
    }
   ],
   "source": [
    "import random\n",
    "count=0\n",
    "for i in range(10000):\n",
    "    \n",
    "    first_choice=random.randint(1,3)\n",
    "    if(first_choice==1):\n",
    "        car_door=random.randint(1,3)\n",
    "        Mc_choice=random.randint(2,3)\n",
    "        if(Mc_choice==2):\n",
    "            second_choice=3\n",
    "            if(car_door==second_choice):\n",
    "                count=count+1\n",
    "        if(Mc_choice==3):\n",
    "            second_choice=2\n",
    "            if(car_door==second_choice):\n",
    "                count=count+1\n",
    "    if(first_choice==3):\n",
    "        car_door=random.randint(1,3)\n",
    "        Mc_choice=random.randint(1,2)\n",
    "        if(Mc_choice==2):\n",
    "            second_choice=1\n",
    "            if(car_door==second_choice):\n",
    "                count=count+1\n",
    "        if(Mc_choice==1):\n",
    "            second_choice=2\n",
    "            if(car_door==second_choice):\n",
    "                count=count+1\n",
    "    if(first_choice==2):\n",
    "        car_door=random.randint(1,3)\n",
    "        A=[1,3]\n",
    "        b=random.randint(0,1)\n",
    "        Mc_choice=A[b]\n",
    "        if(Mc_choice==1):\n",
    "            second_choice=3\n",
    "            if(car_door==second_choice):\n",
    "                count=count+1\n",
    "        if(Mc_choice==3):\n",
    "            second_choice=1\n",
    "            if(car_door==second_choice):\n",
    "                count=count+1\n",
    "print(count/10000)\n",
    "        \n",
    "    "
   ]
  },
  {
   "cell_type": "code",
   "execution_count": 20,
   "metadata": {},
   "outputs": [
    {
     "name": "stdout",
     "output_type": "stream",
     "text": [
      "0.33\n"
     ]
    }
   ],
   "source": [
    "import random\n",
    "count=0\n",
    "for i in range(10000):\n",
    "    car_door=random.randint(1,3)\n",
    "    if(car_door==3):\n",
    "        Mc_choice=random.randint(1,2)\n",
    "        if(Mc_choice==2):\n",
    "            count=count+1\n",
    "    if(car_door==2):\n",
    "        A=[1,3]\n",
    "        b=random.randint(0,1)\n",
    "        Mc_choice=A[b]\n",
    "        if(Mc_choice==3):\n",
    "            count=count+1\n",
    "            \n",
    "print(count/10000)"
   ]
  },
  {
   "cell_type": "code",
   "execution_count": 32,
   "metadata": {},
   "outputs": [
    {
     "name": "stdout",
     "output_type": "stream",
     "text": [
      "0.6698\n"
     ]
    }
   ],
   "source": [
    "import random\n",
    "count=0\n",
    "for i in range(10000):\n",
    "    car_door=random.randint(1,3)\n",
    "    first_choice=random.randint(1,3)\n",
    "    if(first_choice==1):\n",
    "        \n",
    "        if(car_door==2):\n",
    "            count=count+1\n",
    "        if(car_door==3):\n",
    "            count=count+1\n",
    "    elif(first_choice==2):\n",
    "        \n",
    "        if(car_door==1):\n",
    "            count=count+1\n",
    "        if(car_door==3):\n",
    "            count=count+1\n",
    "    else :\n",
    "    \n",
    "        if(car_door==1):\n",
    "            count=count+1\n",
    "        if(car_door==2):\n",
    "            count=count+1\n",
    "print(count/10000)            \n",
    "            "
   ]
  },
  {
   "cell_type": "code",
   "execution_count": null,
   "metadata": {},
   "outputs": [],
   "source": []
  }
 ],
 "metadata": {
  "kernelspec": {
   "display_name": "Python 3",
   "language": "python",
   "name": "python3"
  },
  "language_info": {
   "codemirror_mode": {
    "name": "ipython",
    "version": 3
   },
   "file_extension": ".py",
   "mimetype": "text/x-python",
   "name": "python",
   "nbconvert_exporter": "python",
   "pygments_lexer": "ipython3",
   "version": "3.6.7"
  }
 },
 "nbformat": 4,
 "nbformat_minor": 2
}
