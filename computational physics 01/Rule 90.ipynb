{
 "cells": [
  {
   "cell_type": "code",
   "execution_count": 2,
   "metadata": {},
   "outputs": [],
   "source": [
    "#Rule90 이웃들이 한 놈이 죽고 하놈이 살아 있으면 중간이 1 두 놈이 살았으면 경쟁으로 가운데 0 이웃한 두 놈다 0인 경우 가운데도 0"
   ]
  },
  {
   "cell_type": "code",
   "execution_count": 26,
   "metadata": {
    "scrolled": true
   },
   "outputs": [
    {
     "data": {
      "image/png": "[encoded data removed]",
      "text/plain": [
       "<Figure size 432x288 with 1 Axes>"
      ]
     },
     "metadata": {
      "needs_background": "light"
     },
     "output_type": "display_data"
    }
   ],
   "source": [
    "import numpy\n",
    "import matplotlib.pyplot as plt\n",
    "B=numpy.zeros([500,1001])\n",
    "B[0][500]=1\n",
    "\n",
    "for t in range(1,499):\n",
    "    for i in range(1,1000):\n",
    "        if B[t-1][i-1]==B[t-1][i+1]:\n",
    "            B[t][i]=0\n",
    "        else:\n",
    "            B[t][i]=1\n",
    "#print(B)\n",
    "plt.imshow(B)\n",
    "plt.show()\n",
    "    "
   ]
  },
  {
   "cell_type": "code",
   "execution_count": 28,
   "metadata": {},
   "outputs": [
    {
     "data": {
      "image/png": "[encoded data removed]",
      "text/plain": [
       "<Figure size 432x288 with 1 Axes>"
      ]
     },
     "metadata": {
      "needs_background": "light"
     },
     "output_type": "display_data"
    }
   ],
   "source": [
    "import numpy\n",
    "import matplotlib.pyplot as plt\n",
    "B=numpy.zeros([500,1001])\n",
    "B[0][500]=1\n",
    "\n",
    "for t in range(1,499):\n",
    "    for i in range(3,997):\n",
    "        if B[t-1][i-3]==B[t-1][i+3]:\n",
    "            B[t][i]=0\n",
    "        else:\n",
    "            B[t][i]=1\n",
    "#print(B)\n",
    "plt.imshow(B)\n",
    "plt.show()"
   ]
  },
  {
   "cell_type": "code",
   "execution_count": 29,
   "metadata": {},
   "outputs": [
    {
     "data": {
      "image/png": "[encoded data removed]",
      "text/plain": [
       "<Figure size 432x288 with 1 Axes>"
      ]
     },
     "metadata": {
      "needs_background": "light"
     },
     "output_type": "display_data"
    }
   ],
   "source": [
    "import numpy\n",
    "import matplotlib.pyplot as plt\n",
    "B=numpy.zeros([500,1001])\n",
    "B[0][500]=1\n",
    "\n",
    "for t in range(1,499):\n",
    "    for i in range(3,997):\n",
    "        if B[t-1][i-1]==B[t-1][i+2]:\n",
    "            B[t][i]=0\n",
    "        else:\n",
    "            B[t][i]=1\n",
    "#print(B)\n",
    "plt.imshow(B)\n",
    "plt.show()"
   ]
  },
  {
   "cell_type": "code",
   "execution_count": null,
   "metadata": {},
   "outputs": [],
   "source": []
  }
 ],
 "metadata": {
  "kernelspec": {
   "display_name": "Python 3",
   "language": "python",
   "name": "python3"
  },
  "language_info": {
   "codemirror_mode": {
    "name": "ipython",
    "version": 3
   },
   "file_extension": ".py",
   "mimetype": "text/x-python",
   "name": "python",
   "nbconvert_exporter": "python",
   "pygments_lexer": "ipython3",
   "version": "3.6.7"
  }
 },
 "nbformat": 4,
 "nbformat_minor": 2
}
