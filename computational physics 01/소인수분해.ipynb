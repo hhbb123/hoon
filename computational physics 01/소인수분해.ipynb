{
 "cells": [
  {
   "cell_type": "code",
   "execution_count": 1,
   "metadata": {},
   "outputs": [
    {
     "ename": "SyntaxError",
     "evalue": "invalid syntax (<ipython-input-1-02014604f99c>, line 2)",
     "output_type": "error",
     "traceback": [
      "\u001b[0;36m  File \u001b[0;32m\"<ipython-input-1-02014604f99c>\"\u001b[0;36m, line \u001b[0;32m2\u001b[0m\n\u001b[0;31m    def prime cha(n):\u001b[0m\n\u001b[0m                ^\u001b[0m\n\u001b[0;31mSyntaxError\u001b[0m\u001b[0;31m:\u001b[0m invalid syntax\n"
     ]
    }
   ],
   "source": [
    "#뭐시기 체\n",
    "def prime cha(n):\n",
    "    if n != 1\n",
    "    for f in range(2, n):\n",
    "        if number %f ==0:"
   ]
  },
  {
   "cell_type": "code",
   "execution_count": 5,
   "metadata": {},
   "outputs": [
    {
     "name": "stdout",
     "output_type": "stream",
     "text": [
      "0.00027942657470703125\n",
      "664580\n"
     ]
    }
   ],
   "source": [
    "import random\n",
    "import time\n",
    "\n",
    "startTime = time.time()\n",
    "\n",
    "def miller_rabin(n, k):\n",
    "\n",
    "    if n == 2 or n==3:\n",
    "        return True\n",
    "\n",
    "    if n % 2 == 0:\n",
    "        return False\n",
    "    if n==1 :\n",
    "        return False\n",
    "\n",
    "    r, s = 0, n - 1\n",
    "    while s % 2 == 0:\n",
    "        r += 1\n",
    "        s //= 2\n",
    "    for _ in range(k):\n",
    "        a = random.randrange(2, n - 1)\n",
    "        x = pow(a, s, n)\n",
    "        if x == 1 or x == n - 1:\n",
    "            continue\n",
    "        for _ in range(r - 1):\n",
    "            x = pow(x, 2, n)\n",
    "            if x == n - 1:\n",
    "                break\n",
    "        else:\n",
    "            return False\n",
    "    return True\n",
    "\n",
    "def check_prime(m):\n",
    "    T=[]\n",
    "    F=[]\n",
    "    for i in range(m+1): \n",
    "        if miller_rabin(i,3)==True:\n",
    "            T.append(i)\n",
    "        else :\n",
    "            F.append(i)\n",
    "    return len(T)\n",
    "\n",
    "endTime = time.time() - startTime\n",
    "        \n",
    "            \n",
    "\n",
    "print(endTime) \n",
    "\n",
    "\n",
    "print(check_prime(10000000))\n",
    "    "
   ]
  },
  {
   "cell_type": "code",
   "execution_count": 8,
   "metadata": {},
   "outputs": [
    {
     "name": "stdout",
     "output_type": "stream",
     "text": [
      "False\n"
     ]
    }
   ],
   "source": [
    "import math\n",
    "def cha(n):\n",
    "    cha_list=[True]*n\n",
    "    m=int(math.sqrt(n))\n",
    "    for i in range(2, m+1):\n",
    "        if cha_list[i]==True:\n",
    "            for j in range(i,n,i):\n",
    "                return cha_list[j]==False\n",
    "            \n",
    "\n",
    "print(cha(29))\n",
    "\n",
    "         \n",
    "        "
   ]
  },
  {
   "cell_type": "code",
   "execution_count": 9,
   "metadata": {},
   "outputs": [
    {
     "ename": "SyntaxError",
     "evalue": "unexpected EOF while parsing (<ipython-input-9-4e99355015d8>, line 5)",
     "output_type": "error",
     "traceback": [
      "\u001b[0;36m  File \u001b[0;32m\"<ipython-input-9-4e99355015d8>\"\u001b[0;36m, line \u001b[0;32m5\u001b[0m\n\u001b[0;31m    \u001b[0m\n\u001b[0m    ^\u001b[0m\n\u001b[0;31mSyntaxError\u001b[0m\u001b[0;31m:\u001b[0m unexpected EOF while parsing\n"
     ]
    }
   ],
   "source": [
    "def sevin(n):\n",
    "    prime=range(1,n,1)\n",
    "    m=int(n**0.5)\n",
    "    for i in range(2, m+1):\n",
    "        "
   ]
  },
  {
   "cell_type": "code",
   "execution_count": null,
   "metadata": {},
   "outputs": [],
   "source": [
    "\n"
   ]
  },
  {
   "cell_type": "code",
   "execution_count": 6,
   "metadata": {},
   "outputs": [
    {
     "name": "stdout",
     "output_type": "stream",
     "text": [
      "0.00015544891357421875\n",
      "664579\n"
     ]
    }
   ],
   "source": [
    "import time\n",
    "startTime = time.time()\n",
    "def chaa(n):\n",
    "    a=[True]*n\n",
    "    primes=[]\n",
    "    for i in range(2,n):\n",
    "        if a[i]:\n",
    "            primes.append(i)\n",
    "            for j in range(i+i,n,i):\n",
    "                a[j]=False\n",
    "    return len(primes)\n",
    "endTime = time.time() - startTime\n",
    "print(endTime)\n",
    "print(chaa(10000000))\n",
    "\n",
    "                  \n",
    "    "
   ]
  },
  {
   "cell_type": "code",
   "execution_count": null,
   "metadata": {},
   "outputs": [],
   "source": []
  }
 ],
 "metadata": {
  "kernelspec": {
   "display_name": "Python 3",
   "language": "python",
   "name": "python3"
  },
  "language_info": {
   "codemirror_mode": {
    "name": "ipython",
    "version": 3
   },
   "file_extension": ".py",
   "mimetype": "text/x-python",
   "name": "python",
   "nbconvert_exporter": "python",
   "pygments_lexer": "ipython3",
   "version": "3.6.7"
  }
 },
 "nbformat": 4,
 "nbformat_minor": 2
}
