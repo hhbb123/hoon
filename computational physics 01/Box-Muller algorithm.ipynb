{
 "cells": [
  {
   "cell_type": "code",
   "execution_count": 9,
   "metadata": {},
   "outputs": [
    {
     "data": {
      "image/png": "[encoded data removed]",
      "text/plain": [
       "<Figure size 432x288 with 1 Axes>"
      ]
     },
     "metadata": {
      "needs_background": "light"
     },
     "output_type": "display_data"
    }
   ],
   "source": [
    "\n",
    "import matplotlib.pyplot as plt\n",
    "import random\n",
    "import math\n",
    "def gausian(sigma):\n",
    "    sigma=1\n",
    "    flag=True\n",
    "    if(flag):\n",
    "        r=math.sqrt(-2*sigma**2*math.log(1-random.random()))\n",
    "        theta=2*math.pi*random.random()\n",
    "        reserve=r*math.cos(theta)\n",
    "        flag=False\n",
    "        return r*math.sin(theta)\n",
    "    else:\n",
    "        flag=True\n",
    "        return reserve\n",
    "G=[]\n",
    "for i in range(100000):\n",
    "    ag=gausian(1)\n",
    "    GA.append(ag)\n",
    "plt.hist(G,bins=200,density=True)\n",
    "plt.show()\n",
    "    \n",
    "    "
   ]
  },
  {
   "cell_type": "code",
   "execution_count": 12,
   "metadata": {},
   "outputs": [
    {
     "data": {
      "image/png": "[encoded data removed]",
      "text/plain": [
       "<Figure size 432x288 with 1 Axes>"
      ]
     },
     "metadata": {
      "needs_background": "light"
     },
     "output_type": "display_data"
    }
   ],
   "source": [
    "import random\n",
    "import numpy as np\n",
    "import matplotlib.pyplot as plt\n",
    "GN=[]\n",
    "for i in range(10000):\n",
    "    a=np.random.randn()\n",
    "    GN.append(a)\n",
    "plt.hist(GN,bins=100,density=True)\n",
    "plt.show()"
   ]
  },
  {
   "cell_type": "code",
   "execution_count": 13,
   "metadata": {},
   "outputs": [
    {
     "data": {
      "image/png": "[encoded data removed]",
      "text/plain": [
       "<Figure size 432x288 with 1 Axes>"
      ]
     },
     "metadata": {
      "needs_background": "light"
     },
     "output_type": "display_data"
    }
   ],
   "source": [
    "import random\n",
    "import numpy as np\n",
    "import matplotlib.pyplot as plt\n",
    "GN=[]\n",
    "for i in range(10000):\n",
    "    a=np.random.normal()\n",
    "    GN.append(a)\n",
    "plt.hist(GN,bins=100,density=True)\n",
    "plt.show()"
   ]
  },
  {
   "cell_type": "code",
   "execution_count": 26,
   "metadata": {},
   "outputs": [
    {
     "name": "stderr",
     "output_type": "stream",
     "text": [
      "/opt/conda/lib/python3.6/site-packages/ipykernel_launcher.py:17: RuntimeWarning: invalid value encountered in sqrt\n"
     ]
    },
    {
     "data": {
      "image/png": "[encoded data removed]",
      "text/plain": [
       "<Figure size 432x288 with 1 Axes>"
      ]
     },
     "metadata": {
      "needs_background": "light"
     },
     "output_type": "display_data"
    }
   ],
   "source": [
    "import matplotlib.pyplot as plt\n",
    "import random\n",
    "import math\n",
    "import numpy as np\n",
    "def gausianP(sigma):\n",
    "    global reserve\n",
    "    sigma=1\n",
    "    flag=True\n",
    "    if(flag):\n",
    "        v=2*random.random()-1\n",
    "        u=2*random.random()-1\n",
    "        s=v*v+u*u\n",
    "        while (s==0.0 or s<1.0):\n",
    "            v=2*random.random()-1\n",
    "            u=2*random.random()-1\n",
    "            s=v*v+u*u\n",
    "        factor=np.sqrt(-2*np.log(s)*(sigma**2)/s)\n",
    "        z1=v*factor\n",
    "        z2=u*factor\n",
    "        reserve=z1\n",
    "        flag=False\n",
    "        return z2 \n",
    "    else:\n",
    "        flag=True\n",
    "        return reserve\n",
    "reserve=True\n",
    "GP=[]\n",
    "for i in range(100000):\n",
    "    a=gausianP(1)\n",
    "    GP.append(a)\n",
    "plt.hist(G,bins=100,density=True)\n",
    "plt.show()\n",
    "\n",
    "    "
   ]
  },
  {
   "cell_type": "code",
   "execution_count": null,
   "metadata": {},
   "outputs": [],
   "source": []
  }
 ],
 "metadata": {
  "kernelspec": {
   "display_name": "Python 3",
   "language": "python",
   "name": "python3"
  },
  "language_info": {
   "codemirror_mode": {
    "name": "ipython",
    "version": 3
   },
   "file_extension": ".py",
   "mimetype": "text/x-python",
   "name": "python",
   "nbconvert_exporter": "python",
   "pygments_lexer": "ipython3",
   "version": "3.6.7"
  }
 },
 "nbformat": 4,
 "nbformat_minor": 2
}
