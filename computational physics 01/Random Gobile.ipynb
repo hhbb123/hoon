{
 "cells": [
  {
   "cell_type": "code",
   "execution_count": 18,
   "metadata": {},
   "outputs": [
    {
     "name": "stdout",
     "output_type": "stream",
     "text": [
      "31\n"
     ]
    }
   ],
   "source": [
    "import random\n",
    "import numpy\n",
    "count=0\n",
    "A=[0,0,0,0,0,0,0,0,0]\n",
    "B=[1,1,1,1,1,1,1,1,1]\n",
    "while A != B :\n",
    "    a=random.randint(0,8)\n",
    "    A[a]=1\n",
    "    count=count+1\n",
    "print(count)\n",
    "    \n",
    "    \n",
    "    \n",
    "     "
   ]
  },
  {
   "cell_type": "code",
   "execution_count": 16,
   "metadata": {},
   "outputs": [
    {
     "data": {
      "image/png": "[encoded data removed]",
      "text/plain": [
       "<Figure size 432x288 with 1 Axes>"
      ]
     },
     "metadata": {
      "needs_background": "light"
     },
     "output_type": "display_data"
    }
   ],
   "source": [
    "import matplotlib.pyplot as plt\n",
    "import random\n",
    "count=0\n",
    "A=[0,0,0,0,0,0,0,0,0]\n",
    "B=[1,1,1,1,1,1,1,1,1]\n",
    "C=[]\n",
    "for i in range(1000):\n",
    "    \n",
    "    while A != B :\n",
    "        a=random.randint(0,8)\n",
    "        A[a]=1\n",
    "        count=count+1\n",
    "    C.append(count)\n",
    "plt.hist(C)\n",
    "plt.show()"
   ]
  },
  {
   "cell_type": "code",
   "execution_count": 41,
   "metadata": {},
   "outputs": [
    {
     "name": "stdout",
     "output_type": "stream",
     "text": [
      "25.28\n",
      "23\n",
      "22\n"
     ]
    },
    {
     "data": {
      "image/png": "[encoded data removed]",
      "text/plain": [
       "<Figure size 432x288 with 1 Axes>"
      ]
     },
     "metadata": {
      "needs_background": "light"
     },
     "output_type": "display_data"
    }
   ],
   "source": [
    "import matplotlib.pyplot as plt\n",
    "import random\n",
    "from collections import Counter\n",
    "C=[]\n",
    "\n",
    "def Gobile_num(n):\n",
    "    count=0\n",
    "    A=[0,0,0,0,0,0,0,0,0]\n",
    "    B=[1,1,1,1,1,1,1,1,1]\n",
    "    while A != B :\n",
    "        a=random.randint(0,n)\n",
    "        A[a]=1\n",
    "        count=count+1\n",
    "    return count\n",
    "for i in range(1000):\n",
    "    c=Gobile_num(8)\n",
    "    C.append(c)\n",
    "m=sum(C)/len(C)\n",
    "print(m)\n",
    "C.sort()\n",
    "print(C[len(C)//2])\n",
    "n=plt.hist(C,bins=list(range(min(C),max(C)+1)))\n",
    "print(n[1][list(n[0]).index(max(n[0]))])\n",
    "plt.show()\n",
    "    "
   ]
  },
  {
   "cell_type": "code",
   "execution_count": null,
   "metadata": {},
   "outputs": [],
   "source": [
    "def chabin(A):\n",
    "    A.sort()\n",
    "    "
   ]
  }
 ],
 "metadata": {
  "kernelspec": {
   "display_name": "Python 3",
   "language": "python",
   "name": "python3"
  },
  "language_info": {
   "codemirror_mode": {
    "name": "ipython",
    "version": 3
   },
   "file_extension": ".py",
   "mimetype": "text/x-python",
   "name": "python",
   "nbconvert_exporter": "python",
   "pygments_lexer": "ipython3",
   "version": "3.6.7"
  }
 },
 "nbformat": 4,
 "nbformat_minor": 2
}
