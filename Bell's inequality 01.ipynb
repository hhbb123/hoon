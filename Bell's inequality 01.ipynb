{
 "cells": [
  {
   "cell_type": "code",
   "execution_count": 24,
   "metadata": {},
   "outputs": [
    {
     "name": "stdout",
     "output_type": "stream",
     "text": [
      "0.5193798449612403\n",
      "0.4180327868852459\n",
      "0.5258620689655172\n",
      "0.5375939849624061\n",
      "2.0008686857744094\n"
     ]
    }
   ],
   "source": [
    "# Non Complementary\n",
    "import random\n",
    "\n",
    "RR=[]\n",
    "RL=[]\n",
    "LR=[]\n",
    "LL=[]\n",
    "\n",
    "def Nonlocalinquality(a,b,x,y):\n",
    "    if ((a+b)%2)==((x*y)%2) :\n",
    "        s=1\n",
    "    else:\n",
    "        s=0\n",
    "    return s\n",
    "        \n",
    "for i in range(1000):\n",
    "    \n",
    "    a=random.randrange(0,2)\n",
    "    b=random.randrange(0,2)\n",
    "    x=random.randrange(0,2)\n",
    "    y=random.randrange(0,2)\n",
    "    \n",
    "    if x==1 and y==1:\n",
    "        RR.append(Nonlocalinquality(a,b,x,y))\n",
    "    elif x==1 and y==0:\n",
    "        RL.append(Nonlocalinquality(a,b,x,y))\n",
    "    elif x==0 and y==1:\n",
    "        LR.append(Nonlocalinquality(a,b,x,y))\n",
    "    elif x==0 and y==0:\n",
    "        LL.append(Nonlocalinquality(a,b,x,y))\n",
    "\n",
    "        \n",
    "rr=sum(RR)/len(RR)\n",
    "lr=sum(LR)/len(LR)\n",
    "rl=sum(RL)/len(RL)\n",
    "ll=sum(LL)/len(LL)\n",
    "\n",
    "print(rr)\n",
    "print(rl)\n",
    "print(lr)\n",
    "print(ll)\n",
    "print(rr+rl+lr+ll)\n",
    "\n",
    "        \n",
    "    \n",
    "    \n",
    "    "
   ]
  },
  {
   "cell_type": "code",
   "execution_count": null,
   "metadata": {},
   "outputs": [],
   "source": [
    "#"
   ]
  },
  {
   "cell_type": "code",
   "execution_count": null,
   "metadata": {},
   "outputs": [],
   "source": []
  }
 ],
 "metadata": {
  "kernelspec": {
   "display_name": "Python 3",
   "language": "python",
   "name": "python3"
  },
  "language_info": {
   "codemirror_mode": {
    "name": "ipython",
    "version": 3
   },
   "file_extension": ".py",
   "mimetype": "text/x-python",
   "name": "python",
   "nbconvert_exporter": "python",
   "pygments_lexer": "ipython3",
   "version": "3.7.3"
  }
 },
 "nbformat": 4,
 "nbformat_minor": 2
}
