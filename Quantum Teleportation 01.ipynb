{
 "cells": [
  {
   "cell_type": "code",
   "execution_count": 2,
   "metadata": {},
   "outputs": [],
   "source": [
    "from qiskit import *\n",
    "from qiskit.compiler import transpile, assemble\n",
    "from qiskit.tools.jupyter import *\n",
    "from qiskit. visualization import *\n"
   ]
  },
  {
   "cell_type": "code",
   "execution_count": 5,
   "metadata": {},
   "outputs": [
    {
     "data": {
      "text/html": [
       "<pre style=\"word-wrap: normal;white-space: pre;line-height: 15px;\">             ┌───┐┌─┐                     \n",
       "q_0: |0>─────┤ X ├┤M├─────────────────────\n",
       "        ┌───┐└─┬─┘└╥┘     ┌───┐┌─┐        \n",
       "q_1: |0>┤ H ├──■───╫──────┤ X ├┤M├────────\n",
       "        ├───┤┌───┐ ║ ┌───┐└─┬─┘└╥┘┌───┐┌─┐\n",
       "q_2: |0>┤ H ├┤ T ├─╫─┤ H ├──■───╫─┤ H ├┤M├\n",
       "        └───┘└───┘ ║ └───┘      ║ └───┘└╥┘\n",
       " c_0: 0 ═══════════╩════════════╬═══════╬═\n",
       "                                ║       ║ \n",
       " c_1: 0 ════════════════════════╩═══════╬═\n",
       "                                        ║ \n",
       " c_2: 0 ════════════════════════════════╩═\n",
       "                                          </pre>"
      ],
      "text/plain": [
       "<qiskit.visualization.text.TextDrawing at 0x24638b67518>"
      ]
     },
     "execution_count": 5,
     "metadata": {},
     "output_type": "execute_result"
    }
   ],
   "source": [
    "Quantum_set=QuantumCircuit(3,3)\n",
    "Quantum_set.h(1)\n",
    "Quantum_set.h(2)\n",
    "Quantum_set.t(2)\n",
    "Quantum_set.h(2)\n",
    "Quantum_set.cx(1,0)\n",
    "Quantum_set.cx(2,1)\n",
    "Quantum_set.h(2)\n",
    "Quantum_set.measure([0,1,2],[0,1,2])\n",
    "Quantum_set.draw()"
   ]
  },
  {
   "cell_type": "code",
   "execution_count": 11,
   "metadata": {},
   "outputs": [
    {
     "name": "stdout",
     "output_type": "stream",
     "text": [
      "{'000': 205, '110': 40, '001': 38, '101': 42, '100': 217, '111': 215, '011': 227, '010': 40}\n"
     ]
    },
    {
     "data": {
      "image/png": "[encoded data removed]",
      "text/plain": [
       "<Figure size 504x360 with 1 Axes>"
      ]
     },
     "execution_count": 11,
     "metadata": {},
     "output_type": "execute_result"
    }
   ],
   "source": [
    "backend = BasicAer.get_backend('qasm_simulator')\n",
    "job=execute(Quantum_set, backend, shots=1024)\n",
    "\n",
    "m1=job.result().get_counts(Quantum_set)\n",
    "print(m1)\n",
    "plot_histogram(m1)\n"
   ]
  },
  {
   "cell_type": "code",
   "execution_count": null,
   "metadata": {},
   "outputs": [],
   "source": []
  }
 ],
 "metadata": {
  "kernelspec": {
   "display_name": "Python 3",
   "language": "python",
   "name": "python3"
  },
  "language_info": {
   "codemirror_mode": {
    "name": "ipython",
    "version": 3
   },
   "file_extension": ".py",
   "mimetype": "text/x-python",
   "name": "python",
   "nbconvert_exporter": "python",
   "pygments_lexer": "ipython3",
   "version": "3.7.3"
  }
 },
 "nbformat": 4,
 "nbformat_minor": 2
}
