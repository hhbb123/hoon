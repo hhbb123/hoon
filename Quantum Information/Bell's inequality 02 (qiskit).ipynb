{
 "cells": [
  {
   "cell_type": "code",
   "execution_count": 6,
   "metadata": {},
   "outputs": [
    {
     "name": "stdout",
     "output_type": "stream",
     "text": [
      "0.5150214592274678\n",
      "0.531496062992126\n",
      "0.5205992509363296\n",
      "0.45121951219512196\n",
      "2.0183362853510456\n"
     ]
    }
   ],
   "source": [
    "# Non Complementary\n",
    "import random\n",
    "\n",
    "RR_Non=[]\n",
    "RL_Non=[]\n",
    "LR_Non=[]\n",
    "LL_Non=[]\n",
    "\n",
    "def Nonlocalinquality(a,b,x,y):\n",
    "    if ((a+b)%2)==((x*y)%2) :\n",
    "        s=1\n",
    "    else:\n",
    "        s=0\n",
    "    return s\n",
    "        \n",
    "for i in range(1000):\n",
    "    \n",
    "    a_Non=random.randrange(0,2)\n",
    "    b_Non=random.randrange(0,2)\n",
    "    x_Non=random.randrange(0,2)\n",
    "    y_Non=random.randrange(0,2)\n",
    "    \n",
    "    if x_Non==1 and y_Non==1:\n",
    "        RR_Non.append(Nonlocalinquality(a_Non,b_Non,x_Non,y_Non))\n",
    "    elif x_Non==1 and y_Non==0:\n",
    "        RL_Non.append(Nonlocalinquality(a_Non,b_Non,x_Non,y_Non))\n",
    "    elif x_Non==0 and y_Non==1:\n",
    "        LR_Non.append(Nonlocalinquality(a_Non,b_Non,x_Non,y_Non))\n",
    "    elif x_Non==0 and y_Non==0:\n",
    "        LL_Non.append(Nonlocalinquality(a_Non,b_Non,x_Non,y_Non))\n",
    "\n",
    "        \n",
    "rr_Non=sum(RR_Non)/len(RR_Non)\n",
    "lr_Non=sum(LR_Non)/len(LR_Non)\n",
    "rl_Non=sum(RL_Non)/len(RL_Non)\n",
    "ll_Non=sum(LL_Non)/len(LL_Non)\n",
    "\n",
    "print(rr_Non)\n",
    "print(rl_Non)\n",
    "print(lr_Non)\n",
    "print(ll_Non)\n",
    "print(rr_Non+rl_Non+lr_Non+ll_Non)\n",
    "\n",
    "        \n",
    "    \n",
    "    \n",
    "    "
   ]
  },
  {
   "cell_type": "code",
   "execution_count": null,
   "metadata": {},
   "outputs": [],
   "source": [
    "#Complementary\n"
   ]
  },
  {
   "cell_type": "code",
   "execution_count": 2,
   "metadata": {},
   "outputs": [],
   "source": [
    "from qiskit import *\n",
    "from qiskit.compiler import transpile, assemble\n",
    "from qiskit.tools.jupyter import *\n",
    "from qiskit. visualization import *"
   ]
  },
  {
   "cell_type": "code",
   "execution_count": 3,
   "metadata": {},
   "outputs": [
    {
     "data": {
      "text/html": [
       "<pre style=\"word-wrap: normal;white-space: pre;line-height: 15px;\">        ┌───┐     ┌─┐   \n",
       "q_0: |0>┤ H ├──■──┤M├───\n",
       "        ├───┤┌─┴─┐└╥┘┌─┐\n",
       "q_1: |0>┤ X ├┤ X ├─╫─┤M├\n",
       "        └───┘└───┘ ║ └╥┘\n",
       " c_0: 0 ═══════════╩══╬═\n",
       "                      ║ \n",
       " c_1: 0 ══════════════╩═\n",
       "                        </pre>"
      ],
      "text/plain": [
       "<qiskit.visualization.text.TextDrawing at 0x2aa137076a0>"
      ]
     },
     "execution_count": 3,
     "metadata": {},
     "output_type": "execute_result"
    }
   ],
   "source": [
    "#Case1\n",
    "bell_circuit=QuantumCircuit(2,2)\n",
    "bell_circuit.h(0)\n",
    "bell_circuit.x(1)\n",
    "bell_circuit.cx(0,1)\n",
    "bell_circuit.measure([0,1],[0,1])\n",
    "\n",
    "bell_circuit.draw()\n",
    "\n"
   ]
  },
  {
   "cell_type": "code",
   "execution_count": 4,
   "metadata": {},
   "outputs": [],
   "source": [
    "backend = BasicAer.get_backend('qasm_simulator')\n",
    "job=execute(bell_circuit, backend, shots=1000)\n",
    "measure1_list=job.result().get_counts(bell_circuit)"
   ]
  },
  {
   "cell_type": "code",
   "execution_count": 8,
   "metadata": {},
   "outputs": [],
   "source": [
    "entangled10_probability=measure1_list['10']/1000\n",
    "entangled01_probability=measure1_list['01']/1000\n",
    "\n",
    "def entangled1_random():\n",
    "    AB_list=[[1,0],[0,1]]\n",
    "    random_number=random.random()\n",
    "    if random_number<entangled10_probability:\n",
    "        s1=AB_list[0][0]\n",
    "        s2=AB_list[0][1]\n",
    "    else :\n",
    "        s1=AB_list[1][0]\n",
    "        s2=AB_list[1][1]\n",
    "    return [s1,s2]\n",
    "\n",
    "a_case1=entangled1_random()[0]\n",
    "b_case1=entangled1_random()[1]\n",
    "    \n",
    "    \n",
    "    "
   ]
  },
  {
   "cell_type": "code",
   "execution_count": 16,
   "metadata": {},
   "outputs": [
    {
     "name": "stdout",
     "output_type": "stream",
     "text": [
      "269\n",
      "0.0\n",
      "1.0\n",
      "1.0\n",
      "1.0\n",
      "3.0\n"
     ]
    }
   ],
   "source": [
    "RR_case1=[]\n",
    "RL_case1=[]\n",
    "LR_case1=[]\n",
    "LL_case1=[] \n",
    "\n",
    "for i in range(1000):\n",
    "    \n",
    "    x_case1=random.randrange(0,2)\n",
    "    y_case1=random.randrange(0,2)\n",
    "    \n",
    "    if x_case1==1 and y_case1==1:\n",
    "        RR_case1.append(Nonlocalinquality(a_case1,b_case1,x_case1,y_case1))\n",
    "    elif x_case1==1 and y_case1==0:\n",
    "        RL_case1.append(Nonlocalinquality(a_case1,b_case1,x_case1,y_case1))\n",
    "    elif x_case1==0 and y_case1==1:\n",
    "        LR_case1.append(Nonlocalinquality(a_case1,b_case1,x_case1,y_case1))\n",
    "    elif x_case1==0 and y_case1==0:\n",
    "        LL_case1.append(Nonlocalinquality(a_case1,b_case1,x_case1,y_case1))\n",
    "\n",
    "       \n",
    "        \n",
    "rr_case1=sum(RR_case1)/len(RR_case1)\n",
    "lr_case1=sum(LR_case1)/len(LR_case1)\n",
    "rl_case1=sum(RL_case1)/len(RL_case1)\n",
    "ll_case1=sum(LL_case1)/len(LL_case1)\n",
    "\n",
    "\n",
    "print(rr_case1)\n",
    "print(rl_case1)\n",
    "print(lr_case1)\n",
    "print(ll_case1)\n",
    "print(rr_case1+rl_case1+lr_case1+ll_case1)\n"
   ]
  },
  {
   "cell_type": "code",
   "execution_count": null,
   "metadata": {},
   "outputs": [],
   "source": []
  }
 ],
 "metadata": {
  "kernelspec": {
   "display_name": "Python 3",
   "language": "python",
   "name": "python3"
  },
  "language_info": {
   "codemirror_mode": {
    "name": "ipython",
    "version": 3
   },
   "file_extension": ".py",
   "mimetype": "text/x-python",
   "name": "python",
   "nbconvert_exporter": "python",
   "pygments_lexer": "ipython3",
   "version": "3.7.3"
  }
 },
 "nbformat": 4,
 "nbformat_minor": 2
}
