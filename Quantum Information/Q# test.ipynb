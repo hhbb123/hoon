{
 "cells": [
  {
   "cell_type": "code",
   "execution_count": 1,
   "metadata": {},
   "outputs": [
    {
     "data": {
      "application/json": "[\"SayHello\"]",
      "text/html": [
       "<ul><li>SayHello</li></ul>"
      ],
      "text/plain": [
       "SayHello"
      ]
     },
     "execution_count": 1,
     "metadata": {},
     "output_type": "execute_result"
    }
   ],
   "source": [
    "operation SayHello () : Unit {\n",
    "    Message(\"Hello from quantum world!\");\n",
    "}"
   ]
  },
  {
   "cell_type": "code",
   "execution_count": 3,
   "metadata": {},
   "outputs": [
    {
     "name": "stdout",
     "output_type": "stream",
     "text": [
      "Hello from quantum world!\n"
     ]
    },
    {
     "data": {
      "application/json": "{\"@type\":\"tuple\"}",
      "text/plain": [
       "()"
      ]
     },
     "execution_count": 3,
     "metadata": {},
     "output_type": "execute_result"
    }
   ],
   "source": [
    "%simulate SayHello"
   ]
  },
  {
   "cell_type": "code",
   "execution_count": 4,
   "metadata": {},
   "outputs": [
    {
     "name": "stderr",
     "output_type": "stream",
     "text": [
      "C:/snippet_.qs(1,85): error QS4001: Namespace declarations can only occur on a global scope.\n"
     ]
    }
   ],
   "source": [
    "namespace Quantum.Bell {\n",
    "    open Microsoft.Quantum.Intrinsic;\n",
    "    open Microsoft.Quantum.Canon;\n",
    "\n",
    "    operation Set(desired : Result, q1 : Qubit) : Unit {\n",
    "        if (desired != M(q1)) {\n",
    "            X(q1);\n",
    "        }\n",
    "    }\n",
    "}"
   ]
  },
  {
   "cell_type": "code",
   "execution_count": 5,
   "metadata": {},
   "outputs": [
    {
     "name": "stderr",
     "output_type": "stream",
     "text": [
      "C:/snippet_.qs(1,92): error QS3034: Unexpected code fragment.\n",
      "C:/snippet_.qs(1,85): error QS3035: An expression used as a statement must be a call expression.\n",
      "C:/snippet_.qs(8,18): error QS3216: Expecting \")\".\n",
      "C:/snippet_.qs(8,5): error QS3215: Expecting \"(\".\n",
      "C:/snippet_.qs(11,17): error QS3035: An expression used as a statement must be a call expression.\n",
      "C:/snippet_.qs(11,22): error QS2004: Unexpected statement delimiter.\n",
      "C:/snippet_.qs(11,24): error QS3035: An expression used as a statement must be a call expression.\n",
      "C:/snippet_.qs(11,24): error QS3103: Identifiers need to start with an ASCII letter or an underscore, and need to contain at least one non-underscore character.\n",
      "C:/snippet_.qs(11,27): error QS2004: Unexpected statement delimiter.\n",
      "C:/snippet_.qs(11,28): error QS3035: An expression used as a statement must be a call expression.\n",
      "C:/snippet_.qs(11,41): error QS2004: Unexpected statement delimiter.\n",
      "C:/snippet_.qs(11,43): error QS3035: An expression used as a statement must be a call expression.\n",
      "C:/snippet_.qs(11,43): error QS3103: Identifiers need to start with an ASCII letter or an underscore, and need to contain at least one non-underscore character.\n",
      "C:/snippet_.qs(11,46): error QS2004: Unexpected statement delimiter.\n",
      "C:/snippet_.qs(11,47): error QS3035: An expression used as a statement must be a call expression.\n",
      "C:/snippet_.qs(11,59): error QS2004: Unexpected statement delimiter.\n",
      "C:/snippet_.qs(11,60): error QS3001: Syntax does not match any known patterns.\n",
      "C:/snippet_.qs(8,1): error QS4004: Statements can only occur within a callable or specialization declaration.\n"
     ]
    }
   ],
   "source": [
    "import qsharp\n",
    "\n",
    "from qsharp import Result\n",
    "from Quantum.Bell import TestBellState\n",
    "\n",
    "initials = (Result.Zero, Result.One)\n",
    "\n",
    "for i in initials:\n",
    "  res = TestBellState.simulate(count=1000, initial=i)\n",
    "  (num_zeros, num_ones) = res\n",
    "  print(f'Init:{i: <4} 0s={num_zeros: <4} 1s={num_ones: <4}')"
   ]
  },
  {
   "cell_type": "code",
   "execution_count": 6,
   "metadata": {},
   "outputs": [
    {
     "name": "stderr",
     "output_type": "stream",
     "text": [
      "C:/snippet_.qs(1,92): error QS3034: Unexpected code fragment.\n",
      "C:/snippet_.qs(1,85): error QS3035: An expression used as a statement must be a call expression.\n"
     ]
    }
   ],
   "source": [
    "import qsharp\n",
    "\n",
    "from HelloWorld import SayHello\n",
    "\n",
    "SayHello.simulate()"
   ]
  },
  {
   "cell_type": "code",
   "execution_count": 7,
   "metadata": {},
   "outputs": [
    {
     "name": "stderr",
     "output_type": "stream",
     "text": [
      "C:/snippet_.qs(1,85): error QS4001: Namespace declarations can only occur on a global scope.\n"
     ]
    }
   ],
   "source": [
    "namespace HelloWorld {\n",
    "    open Microsoft.Quantum.Intrinsic;\n",
    "    open Microsoft.Quantum.Canon;\n",
    "\n",
    "    operation SayHello() : Unit {\n",
    "        Message(\"Hello from quantum world!\");\n",
    "    }\n",
    "}"
   ]
  },
  {
   "cell_type": "code",
   "execution_count": null,
   "metadata": {},
   "outputs": [],
   "source": []
  }
 ],
 "metadata": {
  "kernelspec": {
   "display_name": "Q#",
   "language": "qsharp",
   "name": "iqsharp"
  },
  "language_info": {
   "file_extension": ".qs",
   "mimetype": "text/x-qsharp",
   "name": "qsharp",
   "version": "0.4"
  }
 },
 "nbformat": 4,
 "nbformat_minor": 2
}
