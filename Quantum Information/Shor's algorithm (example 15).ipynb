{
 "cells": [
  {
   "cell_type": "code",
   "execution_count": 4,
   "metadata": {},
   "outputs": [],
   "source": [
    "# Shor's algorithm \n",
    "#Find the Modular Operations Cycles of 15 to 11\n",
    "\n",
    "from qiskit import *\n",
    "from qiskit.compiler import transpile, assemble\n",
    "from qiskit.tools.jupyter import *\n",
    "from qiskit. visualization import *\n",
    "import math"
   ]
  },
  {
   "cell_type": "code",
   "execution_count": 6,
   "metadata": {},
   "outputs": [
    {
     "data": {
      "text/html": [
       "<pre style=\"word-wrap: normal;white-space: pre;line-height: 15px;\">        ┌───┐                ┌───┐              ┌─┐        \n",
       "q_0: |0>┤ H ├──────■─────────┤ H ├───■──────────┤M├────────\n",
       "        ├───┤┌───┐ │1.5708   └───┘   │       ┌─┐└╥┘        \n",
       "q_1: |0>┤ H ├┤ H ├─■────────■────────┼───────┤M├─╫─────────\n",
       "        ├───┤└───┘          │0.7854  │1.5708 └╥┘ ║ ┌───┐┌─┐\n",
       "q_2: |0>┤ H ├──■──────■─────■────────■────────╫──╫─┤ H ├┤M├\n",
       "        └───┘┌─┴─┐    │                       ║  ║ └───┘└╥┘\n",
       "q_3: |0>─────┤ X ├────┼───────────────────────╫──╫───────╫─\n",
       "             └───┘  ┌─┴─┐                     ║  ║       ║ \n",
       "q_4: |0>────────────┤ X ├─────────────────────╫──╫───────╫─\n",
       "                    └───┘                     ║  ║       ║ \n",
       " c_0: 0 ══════════════════════════════════════╬══╩═══════╬═\n",
       "                                              ║          ║ \n",
       " c_1: 0 ══════════════════════════════════════╩══════════╬═\n",
       "                                                         ║ \n",
       " c_2: 0 ═════════════════════════════════════════════════╩═\n",
       "                                                           </pre>"
      ],
      "text/plain": [
       "<qiskit.visualization.text.TextDrawing at 0x1cb74bb8128>"
      ]
     },
     "execution_count": 6,
     "metadata": {},
     "output_type": "execute_result"
    }
   ],
   "source": [
    "shor15=QuantumCircuit(5,3)\n",
    "shor15.h(0)\n",
    "shor15.h(1)\n",
    "shor15.h(2)\n",
    "shor15.cx(2,3)\n",
    "shor15.cx(2,4)\n",
    "shor15.h(1)\n",
    "shor15.cu1(math.pi/2,1,0)\n",
    "shor15.h(0)\n",
    "shor15.cu1(math.pi/4,1,2)\n",
    "shor15.cu1(math.pi/2,0,2)\n",
    "shor15.h(2)\n",
    "shor15.measure([0,1,2],[0,1,2])\n",
    "shor15.draw()"
   ]
  },
  {
   "cell_type": "code",
   "execution_count": 7,
   "metadata": {},
   "outputs": [
    {
     "name": "stdout",
     "output_type": "stream",
     "text": [
      "{'000': 520, '100': 504}\n"
     ]
    },
    {
     "data": {
      "image/png": "[encoded data removed]",
      "text/plain": [
       "<Figure size 504x360 with 1 Axes>"
      ]
     },
     "execution_count": 7,
     "metadata": {},
     "output_type": "execute_result"
    }
   ],
   "source": [
    "backend=BasicAer.get_backend('qasm_simulator')\n",
    "job=execute(shor15,backend,shots=1024)\n",
    "\n",
    "measure_result=job.result().get_counts(shor15)\n",
    "print(measure_result)\n",
    "plot_histogram(measure_result)"
   ]
  },
  {
   "cell_type": "code",
   "execution_count": 9,
   "metadata": {},
   "outputs": [
    {
     "name": "stdout",
     "output_type": "stream",
     "text": [
      "2\n"
     ]
    }
   ],
   "source": [
    "# Find period\n",
    "period_15_11=len(measure_result)\n",
    "print(period_15_11)"
   ]
  },
  {
   "cell_type": "code",
   "execution_count": 17,
   "metadata": {},
   "outputs": [],
   "source": [
    "#Find gcm\n",
    "\n",
    "def gcm(a,b):\n",
    "    if a<b:\n",
    "        (a,b)=(b,a)\n",
    "    while b!=0:\n",
    "        (a,b)=(b,a%b)\n",
    "    return a"
   ]
  },
  {
   "cell_type": "code",
   "execution_count": 19,
   "metadata": {},
   "outputs": [
    {
     "name": "stdout",
     "output_type": "stream",
     "text": [
      "5.0\n",
      "3.0\n"
     ]
    }
   ],
   "source": [
    "#Find prime number\n",
    "prime_15_1=gcm((11**(period_15_11/2))-1,15)\n",
    "prime_15_2=gcm((11**(period_15_11/2))+1,15)\n",
    "print(prime_15_1)\n",
    "print(prime_15_2)"
   ]
  },
  {
   "cell_type": "code",
   "execution_count": null,
   "metadata": {},
   "outputs": [],
   "source": []
  }
 ],
 "metadata": {
  "kernelspec": {
   "display_name": "Python 3",
   "language": "python",
   "name": "python3"
  },
  "language_info": {
   "codemirror_mode": {
    "name": "ipython",
    "version": 3
   },
   "file_extension": ".py",
   "mimetype": "text/x-python",
   "name": "python",
   "nbconvert_exporter": "python",
   "pygments_lexer": "ipython3",
   "version": "3.7.3"
  }
 },
 "nbformat": 4,
 "nbformat_minor": 2
}
