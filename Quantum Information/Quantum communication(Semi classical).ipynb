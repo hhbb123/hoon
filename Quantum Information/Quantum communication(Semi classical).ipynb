{
 "cells": [
  {
   "cell_type": "code",
   "execution_count": 89,
   "metadata": {},
   "outputs": [],
   "source": [
    "from qiskit import *\n",
    "from qiskit.compiler import transpile, assemble\n",
    "from qiskit.tools.jupyter import *\n",
    "from qiskit. visualization import *\n",
    "import math\n",
    "import numpy"
   ]
  },
  {
   "cell_type": "code",
   "execution_count": 90,
   "metadata": {},
   "outputs": [
    {
     "data": {
      "text/html": [
       "<pre style=\"word-wrap: normal;white-space: pre;line-height: 15px;\">        ┌───┐     ┌─┐   \n",
       "q_0: |0>┤ H ├──■──┤M├───\n",
       "        ├───┤┌─┴─┐└╥┘┌─┐\n",
       "q_1: |0>┤ X ├┤ X ├─╫─┤M├\n",
       "        └───┘└───┘ ║ └╥┘\n",
       " c_0: 0 ═══════════╩══╬═\n",
       "                      ║ \n",
       " c_1: 0 ══════════════╩═\n",
       "                        </pre>"
      ],
      "text/plain": [
       "<qiskit.visualization.text.TextDrawing at 0x19f76d9cd68>"
      ]
     },
     "execution_count": 90,
     "metadata": {},
     "output_type": "execute_result"
    }
   ],
   "source": [
    "#made Symmetric key ratio\n",
    "Symmetric_key=QuantumCircuit(2,2)\n",
    "Symmetric_key.x(1)\n",
    "Symmetric_key.h(0)\n",
    "Symmetric_key.cx(0,1)\n",
    "Symmetric_key.measure([0,1],[0,1])\n",
    "Symmetric_key.draw()"
   ]
  },
  {
   "cell_type": "code",
   "execution_count": 91,
   "metadata": {
    "scrolled": false
   },
   "outputs": [
    {
     "name": "stdout",
     "output_type": "stream",
     "text": [
      "{'10': 517, '01': 507}\n"
     ]
    },
    {
     "data": {
      "image/png": "[encoded data removed]",
      "text/plain": [
       "<Figure size 504x360 with 1 Axes>"
      ]
     },
     "execution_count": 91,
     "metadata": {},
     "output_type": "execute_result"
    }
   ],
   "source": [
    "#check Symmetric key\n",
    "backend = BasicAer.get_backend('qasm_simulator')\n",
    "job=execute(Symmetric_key, backend, shots=1024)\n",
    "\n",
    "Key_ratio=job.result().get_counts(Symmetric_key)\n",
    "print(Key_ratio)\n",
    "plot_histogram(Key_ratio)"
   ]
  },
  {
   "cell_type": "code",
   "execution_count": 92,
   "metadata": {},
   "outputs": [],
   "source": [
    "#Key Selection of A,B\n",
    "\n",
    "Key_box=[0,1]\n",
    "\n",
    "def listnormalization(A,a):\n",
    "    B=[]\n",
    "    for i in range(len(A)):\n",
    "        B.append(A[i-1]/a)\n",
    "    return B\n",
    "    \n",
    "Key_ratio_list=listnormalization(list(Key_ratio.values()),1024)\n",
    "\n",
    "random_valu=numpy.random.rand()\n",
    "\n",
    "if (random_valu<Key_ratio_list[0]):\n",
    "    A_befor=Key_box[0]\n",
    "    B=Key_box[1]\n",
    "else:\n",
    "    A_befor=Key_box[1]\n",
    "    B=Key_box[0]\n"
   ]
  },
  {
   "cell_type": "code",
   "execution_count": 93,
   "metadata": {},
   "outputs": [],
   "source": [
    "#open key\n",
    "\n",
    "def keytransform(c,d):\n",
    "    if (c-d==1):\n",
    "        print('safe')\n",
    "    elif(c-d==2):\n",
    "        print('caution')\n",
    "    elif(c-d==3):\n",
    "        print('dangerous')\n",
    "    else:\n",
    "        print('Wiretapping')\n",
    "        "
   ]
  },
  {
   "cell_type": "code",
   "execution_count": 94,
   "metadata": {},
   "outputs": [
    {
     "name": "stdout",
     "output_type": "stream",
     "text": [
      "2\n"
     ]
    }
   ],
   "source": [
    "# A's information\n",
    "information=int(input())\n",
    "# 1=safe, 2=caution, 3=dangerous\n",
    "A_transform=A_befor+information"
   ]
  },
  {
   "cell_type": "code",
   "execution_count": 95,
   "metadata": {},
   "outputs": [
    {
     "name": "stdout",
     "output_type": "stream",
     "text": [
      "caution\n"
     ]
    }
   ],
   "source": [
    "#Translation of B\n",
    "keytransform(A_transform,abs(B-1))"
   ]
  },
  {
   "cell_type": "code",
   "execution_count": null,
   "metadata": {},
   "outputs": [],
   "source": []
  }
 ],
 "metadata": {
  "kernelspec": {
   "display_name": "Python 3",
   "language": "python",
   "name": "python3"
  },
  "language_info": {
   "codemirror_mode": {
    "name": "ipython",
    "version": 3
   },
   "file_extension": ".py",
   "mimetype": "text/x-python",
   "name": "python",
   "nbconvert_exporter": "python",
   "pygments_lexer": "ipython3",
   "version": "3.7.1"
  }
 },
 "nbformat": 4,
 "nbformat_minor": 2
}
