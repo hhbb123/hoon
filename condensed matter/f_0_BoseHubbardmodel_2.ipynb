{
  "nbformat": 4,
  "nbformat_minor": 0,
  "metadata": {
    "colab": {
      "name": "f_0_BoseHubbardmodel_2.ipynb",
      "provenance": [],
      "collapsed_sections": [],
      "authorship_tag": "ABX9TyPJ6L9W0UlDJqWLAIbIOdFU",
      "include_colab_link": true
    },
    "kernelspec": {
      "name": "python3",
      "display_name": "Python 3"
    },
    "language_info": {
      "name": "python"
    }
  },
  "cells": [
    {
      "cell_type": "markdown",
      "metadata": {
        "id": "view-in-github",
        "colab_type": "text"
      },
      "source": [
        "<a href=\"https://colab.research.google.com/github/hhbb123/hoon/blob/master/condensed%20matter/f_0_BoseHubbardmodel_2.ipynb\" target=\"_parent\"><img src=\"https://colab.research.google.com/assets/colab-badge.svg\" alt=\"Open In Colab\"/></a>"
      ]
    },
    {
      "cell_type": "code",
      "metadata": {
        "id": "gXqqfV38dTz8"
      },
      "source": [
        "import numpy as np\n",
        "import math\n",
        "import pylab as plt"
      ],
      "execution_count": 13,
      "outputs": []
    },
    {
      "cell_type": "code",
      "metadata": {
        "id": "y1GbepbDdbuy"
      },
      "source": [
        "#parameter\n",
        "q_init=1  #<b>=q\n",
        "d=2\n",
        "n_max=6\n",
        "\n",
        "t_max=0.05\n",
        "t_min=0\n",
        "u_max=1.5"
      ],
      "execution_count": 14,
      "outputs": []
    },
    {
      "cell_type": "code",
      "metadata": {
        "colab": {
          "base_uri": "https://localhost:8080/"
        },
        "id": "hbngQRw4dzrc",
        "outputId": "d0e618c5-bb06-4d6c-c06f-c56ea0458eea"
      },
      "source": [
        "n=np.zeros((n_max,n_max))\n",
        "for i in range(0,n_max):\n",
        "    n[i][i]=i\n",
        "\n",
        "# b dagger=bt\n",
        "bt=np.zeros((n_max,n_max))\n",
        "for i in range(0,n_max):\n",
        "    bt[i][i-1]=i**(0.5)\n",
        "b=np.matrix.getH(bt)\n",
        "\n",
        "def Hamiltonian(t,u,q):\n",
        "  H=-2*d*t*(bt*q+b*q)-u*n+0.5*n*(n-1)\n",
        "  return H\n",
        "print(Hamiltonian(1,1,1))"
      ],
      "execution_count": 15,
      "outputs": [
        {
          "output_type": "stream",
          "text": [
            "[[-0.         -4.         -0.         -0.         -0.         -0.        ]\n",
            " [-4.         -1.         -5.65685425 -0.         -0.         -0.        ]\n",
            " [-0.         -5.65685425 -1.         -6.92820323 -0.         -0.        ]\n",
            " [-0.         -0.         -6.92820323  0.         -8.         -0.        ]\n",
            " [-0.         -0.         -0.         -8.          2.         -8.94427191]\n",
            " [-0.         -0.         -0.         -0.         -8.94427191  5.        ]]\n"
          ],
          "name": "stdout"
        }
      ]
    },
    {
      "cell_type": "code",
      "metadata": {
        "id": "3-2XUSqLe-rd"
      },
      "source": [
        "T=[]\n",
        "Q=[]\n",
        "u_max=1.5\n",
        "t_max=0.1\n",
        "for t in np.arange(0,t_max,t_max/100):\n",
        "  q=1\n",
        "  q_prev=100000000\n",
        "  #for k in range(0,20):\n",
        "  while abs(q_prev-q)>1e-4:\n",
        "    D,V=np.linalg.eig(Hamiltonian(t,0.5,q))\n",
        "    q_prev=q\n",
        "    w=V[:,np.argmin(D)]\n",
        "\n",
        "    q= np.dot(np.dot(w,b),np.matrix.getH(w))\n",
        "  Q.append(q)\n",
        "  T.append(t)"
      ],
      "execution_count": 28,
      "outputs": []
    },
    {
      "cell_type": "code",
      "metadata": {
        "colab": {
          "base_uri": "https://localhost:8080/",
          "height": 302
        },
        "id": "umMDI2scfyfC",
        "outputId": "14476412-06d1-49f9-d21e-663af91ecf71"
      },
      "source": [
        "print(Q)\n",
        "plt.scatter(T,Q)\n",
        "plt.show()"
      ],
      "execution_count": 29,
      "outputs": [
        {
          "output_type": "stream",
          "text": [
            "[0.0, 3.316698260619247e-07, 2.544777461620145e-07, 1.929342250826653e-06, 8.111941983204752e-06, 2.9620618024049153e-06, 8.813171187978857e-06, 3.717758272337131e-06, 9.420776599815002e-06, 2.1365493478813385e-05, 1.0653057388253947e-05, 2.2674810142572893e-05, 1.299698095922489e-05, 2.6482395349148535e-05, 1.7173494328421593e-05, 3.3885905089849325e-05, 2.4534407229878216e-05, 4.721941293733501e-05, 3.775328185876261e-05, 7.121228623608046e-05, 6.229360966717821e-05, 5.822791444938244e-05, 0.00010969747611602013, 0.00011066136555665931, 0.00011818632546978481, 0.00013320301148040927, 0.00015796198626543063, 0.0001273696213835599, 0.00017202005549579806, 0.00016860224315667135, 0.0002555238450732547, 0.00022225389578081205, 0.0002956600455685316, 0.0003412276830252565, 0.0003717135734702552, 0.0004923075130048056, 0.0005852605564716067, 0.0007272317763611727, 0.0009915912790402636, 0.001395987495759316, 0.002352867654487298, 0.006125777309787932, 0.125072912719215, 0.23638519333822805, 0.3067134434623968, 0.3607364881596009, 0.40507131747894154, 0.4428758061349297, 0.4758772965158873, 0.5051978705583751, 0.5314123393771457, 0.5552489590371387, 0.5769643020649938, 0.596924920607015, 0.6153683667923613, 0.6324887091442216, 0.6483888116973194, 0.6633080073846815, 0.6773115448126915, 0.690429290358649, 0.7028107592436692, 0.7145634173010532, 0.7256572840473186, 0.7361974679089642, 0.7462680019578471, 0.7558261935008226, 0.7649568509011024, 0.77369264629256, 0.7820986640569716, 0.7901238762400066, 0.7978357838619218, 0.8052560495961867, 0.8124044239724171, 0.8193352012721997, 0.8259869838411493, 0.8324174411407821, 0.8386403041700563, 0.8446682188827823, 0.850512848486903, 0.8561849648273208, 0.8616945300903787, 0.8670838059140246, 0.8722914498272247, 0.8773627610224433, 0.882305050688464, 0.8871251295603151, 0.8918293488435985, 0.8964236373025394, 0.9009135349067172, 0.905304223389086, 0.9096005540298837, 0.9138070729469905, 0.917928044142935, 0.9219674705317034, 0.9259555510726141, 0.9298404606544923, 0.9336546759805469, 0.9374013074408469, 0.9410832884155097, 0.94470338729799]\n"
          ],
          "name": "stdout"
        },
        {
          "output_type": "display_data",
          "data": {
            "image/png": "[encoded data removed]",
            "text/plain": [
              "<Figure size 432x288 with 1 Axes>"
            ]
          },
          "metadata": {
            "tags": [],
            "needs_background": "light"
          }
        }
      ]
    },
    {
      "cell_type": "code",
      "metadata": {
        "id": "56TKJHcbxeR4"
      },
      "source": [
        ""
      ],
      "execution_count": null,
      "outputs": []
    }
  ]
}