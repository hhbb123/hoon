{
  "nbformat": 4,
  "nbformat_minor": 0,
  "metadata": {
    "colab": {
      "name": "f_0_BoseHubbardmodel_phasediagram.ipynb",
      "provenance": [],
      "collapsed_sections": [],
      "authorship_tag": "ABX9TyOSrRjFaHp5OfaUXjc1KWY6",
      "include_colab_link": true
    },
    "kernelspec": {
      "name": "python3",
      "display_name": "Python 3"
    },
    "language_info": {
      "name": "python"
    }
  },
  "cells": [
    {
      "cell_type": "markdown",
      "metadata": {
        "id": "view-in-github",
        "colab_type": "text"
      },
      "source": [
        "<a href=\"https://colab.research.google.com/github/hhbb123/hoon/blob/master/condensed%20matter/f_0_BoseHubbardmodel_phasediagram.ipynb\" target=\"_parent\"><img src=\"https://colab.research.google.com/assets/colab-badge.svg\" alt=\"Open In Colab\"/></a>"
      ]
    },
    {
      "cell_type": "code",
      "metadata": {
        "id": "2uOel5gSO0_k"
      },
      "source": [
        "import numpy as np\n",
        "import pylab as plt\n",
        "import math\n"
      ],
      "execution_count": 106,
      "outputs": []
    },
    {
      "cell_type": "code",
      "metadata": {
        "id": "xoB6tRolQBDA"
      },
      "source": [
        "def Hamiltonian(t,u,q):         #q=<b>\n",
        "  Hmf=np.zeros((6,6))\n",
        "  for i in range(0,6):\n",
        "      Hmf[i][i]=0.5*i*(i-1)-u*i\n",
        "  for i in range(0,5):\n",
        "      Hmf[i][i+1]=-t*math.sqrt(i+1)*q*4\n",
        "      Hmf[i+1][i]=-t*math.sqrt(i+1)*q*4\n",
        "  for i in range(1,5):\n",
        "      Hmf[i][i-1]=-t*math.sqrt(i)*q*4\n",
        "      Hmf[i-1][i]=-t*math.sqrt(i)*q*4\n",
        "\n",
        "  return Hmf"
      ],
      "execution_count": 107,
      "outputs": []
    },
    {
      "cell_type": "code",
      "metadata": {
        "id": "HcamiElPQl0Z"
      },
      "source": [
        "T=[]\n",
        "U=[]\n",
        "Q=[]\n",
        "t_min=0\n",
        "t_max=0.1\n",
        "u_min=0\n",
        "u_max=1.5\n",
        "\n",
        "for t in np.arange(0,t_max,t_max/500):\n",
        "  Q_prev=[]\n",
        "  for u in np.arange(u_min,u_max,u_max/500):\n",
        "    U.append(u)\n",
        "    q=1\n",
        "    q_prev=100000000\n",
        "    while abs(q_prev-q)>1e-4:\n",
        "      D,V=np.linalg.eig(Hamiltonian(t,u,q))\n",
        "      w=V[:,np.argmin(D)]\n",
        "      q_prev=q\n",
        "      q=0\n",
        "      for i in range(0,5):\n",
        "        q += ((i+1)**0.5)*np.conjugate(w[i])*w[i+1]\n",
        "    Q_prev.append(q)\n",
        "  Q.append(Q_prev)\n",
        "  T.append(t)\n"
      ],
      "execution_count": 108,
      "outputs": []
    },
    {
      "cell_type": "code",
      "metadata": {
        "colab": {
          "base_uri": "https://localhost:8080/"
        },
        "id": "I7LKAoLsWgxe",
        "outputId": "ed4e4c7b-c8e7-4363-bd69-af77264bf1be"
      },
      "source": [
        "print(Q[5][2])\n",
        "Tc=[]\n",
        "Uc=[]\n",
        "for k in range(0,499):\n",
        "  for r in range(len(Q[k])-1):\n",
        "    if abs(Q[k][r])<1e-3:\n",
        "      Tc.append(T[k])\n",
        "      Uc.append(U[r%499])\n"
      ],
      "execution_count": 109,
      "outputs": [
        {
          "output_type": "stream",
          "text": [
            "0.00018542114432015916\n"
          ],
          "name": "stdout"
        }
      ]
    },
    {
      "cell_type": "code",
      "metadata": {
        "colab": {
          "base_uri": "https://localhost:8080/",
          "height": 295
        },
        "id": "VxMKA9sCjdjr",
        "outputId": "9d664125-bb6d-4d7e-f40c-23612871ee15"
      },
      "source": [
        "plt.scatter(Tc,Uc,s=1)\n",
        "plt.xlabel('t/U')\n",
        "plt.ylabel('u/U')\n",
        "plt.title('Bose-Hubbard mdoel pahse diagram mott insulator')\n",
        "plt.show()"
      ],
      "execution_count": 111,
      "outputs": [
        {
          "output_type": "display_data",
          "data": {
            "image/png": "[encoded data removed]",
            "text/plain": [
              "<Figure size 432x288 with 1 Axes>"
            ]
          },
          "metadata": {
            "tags": [],
            "needs_background": "light"
          }
        }
      ]
    },
    {
      "cell_type": "code",
      "metadata": {
        "id": "4ER9RZony5hE"
      },
      "source": [
        ""
      ],
      "execution_count": null,
      "outputs": []
    }
  ]
}