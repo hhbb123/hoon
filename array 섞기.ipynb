{
 "cells": [
  {
   "cell_type": "code",
   "execution_count": 5,
   "metadata": {},
   "outputs": [
    {
     "name": "stdout",
     "output_type": "stream",
     "text": [
      "[ 769  107   83  541    8  895  279  644   46  327  321  719  504  831\n",
      "  583   35  144  777  177  149  123  660  815  357  131  375  822  155\n",
      "   99  244  571  337  742  281  830  713  966  494  111  691  506  528\n",
      "  162   41  422  799  481  170  235  347   52  935  568  602  720  216\n",
      "  986  469  201  598  255  888  735  979  891  118  938  942  335  999\n",
      "  457    3  230  205  287  677  272  923  126  390  542  296  199  861\n",
      "  262   13  715  759   71  258  514  695  446  540   21  503  666  368\n",
      "  651  222  109  657  369  108  560  632  628  124  704  520  152  172\n",
      "  592    2  558  355  783  869  976  100  134  548  803  343  493  499\n",
      "  476  591  654  535  787  340  462  512  851  186  391  993  450  728\n",
      "   61  878  464  793  606  813  961  978  219  805  407  706  778  532\n",
      "  672  593 1000  436  265  331   62  184  215  557  243  586  669  738\n",
      "  228  562   65  264  518  865  288  226  892  380  645  912  178  408\n",
      "   24  400  566  112  653   72  616  543  116  899   31  795  630  325\n",
      "  553   90  810  486  455  809  246  893  196  473  696  955   58  434\n",
      "  489  768  939  784  763  257  613  478  217  601  314  248  351  397\n",
      "  940  944  106  188  426  171  825  996  282  444   45  416  440   94\n",
      "  589  102  605  147  885  289  997  819  618  329  801  394  705  969\n",
      "  525  254  818  597  402  497  565  346  756  757  398  477  889  872\n",
      "  936  842  731  396  611  594  753  348    6  275  747  229  449  302\n",
      "  766  522  207   92  588  423   43  459  515  968   18  683  269   86\n",
      "  502   28  780  120   38  849  524  181  533  918  678  142   91  136\n",
      "  991  189  114  857  507  483   51  907  424  430   87  619  433  608\n",
      "  359  710  984  906  363  838  421  844  461   76  135  988  129  733\n",
      "  631   53  146  376  401  224   14  576  125  953  425  187  538  746\n",
      "  388   66  709  615  982  725  963  637  800  382  767  760  453   40\n",
      "  782  941   16  570  804  185  697  379  564  641  659  498  479  370\n",
      "  956  437  480  403  413  536  854  326  829  516  141  788  894  513\n",
      "  965  139  338  415  915  684  823  292  671  703  701  926  981   73\n",
      "  814  317   23  220  452  743  789   12  428   54  209  876  682  218\n",
      "  349   67  722  278  384  467  685  311   68  546   55  202  692  411\n",
      "  212  316  688  840  866  687  367  245  919  547  856  458  309  517\n",
      "  832  487  680  268  510  143  148  983  676  837  638  579   59  826\n",
      "  917  992  949  313  600  932  239  700  545  707   32  596  658  690\n",
      "   64   81  884   89  839    7   85  160  299   25   75  377  561  475\n",
      "  827  354  115  204  345  414  350  972  821  103  319  328  210  771\n",
      "  711   69  974  930   36  385  640  652   33  797  530  796  718   78\n",
      "   60  873  948  203  913  352  127  150  908  214  663  764  610  772\n",
      "  344  841  371  945  242  794  574  816  833  303  353  585  881  862\n",
      "  531  286  603  977  298  890  361  297  266  386  717  138  330  372\n",
      "  858  569  526  378  165  164  791  877  159  604  626   26  521  716\n",
      "  490  909  284  629   70  471  492  410  727  732  274  802  607  649\n",
      "  192  211  417  534  501  886  642  572  389  900  213   79  853  850\n",
      "  808  158   48  442  500  122   22  145  916  405  817  698  578  712\n",
      "  656  779  470  197  365  168  198  310  312  910  875  362  824  383\n",
      "  667  409  291  420  419  173  293  295  432  283  559  925  843  161\n",
      "  438  887  902  305  721  845  765  587  967  441  980  650   34  774\n",
      "  617  931  263   27  937  624  775  724  758  636  358  300  655  614\n",
      "  970    4  729  221  689  852   84  251  896  179  947  770  342  277\n",
      "  154  460  119  200  973  806  904  985  443  755  556  679  360  934\n",
      "  730   50  994  223  836  575  867  482  247  527  554  897  723  643\n",
      "  418  971  582  903  995  374  468  609  373  828  252  621  304  333\n",
      "  855  466  237  648  773   37  905  176  748  267  567  883  964  761\n",
      "  456  306  754  336  511  734  225  835  975   17  169  301  250  627\n",
      "  484  673  776  318  190  927   96  952  811  612  662  622  635  315\n",
      "  848  366  308  194  463  694  870  117  752   10  686  256  820   30\n",
      "  551  544  646  958  929  451  519  404  509  898  744  431  280  946\n",
      "  387  555  153  846  261   20  762  465  745  323  790  260   47  834\n",
      "  798  675  859  523  276  395  320   82   93  110  625  879  454    5\n",
      "  882  240  781  914  206  933  156  232  874  130  151  231  702    9\n",
      "  959  921  962  238  234  922  227  447  549  847  412  661  273  429\n",
      "  951  987  488  581  620  439  140  573  580  167  233  175  871  737\n",
      "  950  860  324  792   49  740  193  665  132  166  664  674  133  191\n",
      "  322  270  163  989  332   77  341  595  590  714  101  505  864  472\n",
      "   19  920  668  693  529  195  406  550  157  253  137   95  812  334\n",
      "  943  259  491   44  928  741  911  807  381  584  339    1  739  121\n",
      "   11  427  552  294  868  990  749   56  485   39  563  285   29  249\n",
      "  104   57  445  495   98  180  496  474  508  356   15  174  633   42\n",
      "  392  960  236  128  634  647  208  708  539  998  393  785  699   88\n",
      "  271  290   63  726  113  182  537  954  736  957  577  435  751  448\n",
      "   80   74  399  105  880  599  786  681   97  623  241  183  901  670\n",
      "  307  639  863  924  750  364]\n"
     ]
    }
   ],
   "source": [
    "import numpy as np\n",
    "import random\n",
    "r=np.arange(1,1001,1)\n",
    "for i in range(1000):\n",
    "    a=random.randint(0,999)\n",
    "    r[a],r[i]=r[i],r[a]\n",
    "print(r)\n"
   ]
  },
  {
   "cell_type": "code",
   "execution_count": 6,
   "metadata": {},
   "outputs": [
    {
     "name": "stdout",
     "output_type": "stream",
     "text": [
      "[ 16  55  13  17  53   2  86   1  21  14  31  63  30  19  52  51  98  96\n",
      "  18  59  93   9  26  81  97  44  64 100  79  15  20  88  66   7  74  33\n",
      "  99  68   6   3  40  54  25  27  47  67  83  60  36  80  82  42  48  46\n",
      "  78  11  70  50  22   8   5  29  35  34  56  61  28  94  12  72  57  62\n",
      "  23  73  85  41  37  65  45  39  75  71  89  76   4  43  32  49  10  38\n",
      "  77  95  58  87  84  91  92  90  24  69]\n"
     ]
    }
   ],
   "source": [
    "import numpy as np\n",
    "import random\n",
    "r=np.arange(1,101,1)\n",
    "for i in range(100):\n",
    "    a=random.randint(0,99)\n",
    "    r[a],r[i]=r[i],r[a]\n",
    "print(r)"
   ]
  },
  {
   "cell_type": "code",
   "execution_count": 19,
   "metadata": {},
   "outputs": [
    {
     "name": "stdout",
     "output_type": "stream",
     "text": [
      "<map object at 0x7f74014a0c18>\n"
     ]
    }
   ],
   "source": [
    "import numpy as np\n",
    "import random\n",
    "x=[]\n",
    "y=[]\n",
    "r=np.arange(1,1001,1)\n",
    "for i in range(1000):\n",
    "    a=random.randint(0,999)\n",
    "    r[a],r[i]=r[i],r[a]\n",
    "    x.append(r)\n",
    "for i in range(1000):\n",
    "    a=random.randint(0,999)\n",
    "    r[a],r[i]=r[i],r[a]\n",
    "    y.append(r)\n",
    "print(map(operator.add,x,y))\n",
    "\n"
   ]
  },
  {
   "cell_type": "code",
   "execution_count": 5,
   "metadata": {},
   "outputs": [
    {
     "name": "stdout",
     "output_type": "stream",
     "text": [
      "<map object at 0x7f7ecea48a58>\n"
     ]
    }
   ],
   "source": [
    "import numpy as np\n",
    "import random\n",
    "x=[]\n",
    "y=[]\n",
    "r=np.arange(1,101,1)\n",
    "for i in range(100):\n",
    "    a=random.randint(0,99)\n",
    "    r[a],r[i]=r[i],r[a]\n",
    "    x.append(r)\n",
    "for i in range(100):\n",
    "    a=random.randint(0,99)\n",
    "    r[a],r[i]=r[i],r[a]\n",
    "    y.append(r)\n",
    "print((map(operator.add,x,y)))"
   ]
  },
  {
   "cell_type": "code",
   "execution_count": 7,
   "metadata": {},
   "outputs": [
    {
     "name": "stdout",
     "output_type": "stream",
     "text": [
      "<map object at 0x7f7efcbeda20>\n"
     ]
    }
   ],
   "source": [
    "import operator\n",
    "x=[1,2,3]\n",
    "y=[4,5,6]\n",
    "print(map(operator.add,x,y))"
   ]
  },
  {
   "cell_type": "code",
   "execution_count": 7,
   "metadata": {},
   "outputs": [
    {
     "name": "stdout",
     "output_type": "stream",
     "text": [
      "[-1, -2, -6]\n"
     ]
    }
   ],
   "source": [
    "def list_baki(a,b) :\n",
    "    c=[]\n",
    "    for i in range(0,len(a)) :\n",
    "        r=a[i]-b[i]\n",
    "        c.append(r)\n",
    "    return c\n",
    "x=[1,2,3]\n",
    "y=[2,4,9]\n",
    "print(list_baki(x,y))\n",
    "        "
   ]
  },
  {
   "cell_type": "code",
   "execution_count": 9,
   "metadata": {},
   "outputs": [
    {
     "name": "stderr",
     "output_type": "stream",
     "text": [
      "IOPub data rate exceeded.\n",
      "The notebook server will temporarily stop sending output\n",
      "to the client in order to avoid crashing it.\n",
      "To change this limit, set the config variable\n",
      "`--NotebookApp.iopub_data_rate_limit`.\n",
      "\n",
      "Current values:\n",
      "NotebookApp.iopub_data_rate_limit=1000000.0 (bytes/sec)\n",
      "NotebookApp.rate_limit_window=3.0 (secs)\n",
      "\n"
     ]
    }
   ],
   "source": [
    "import numpy as np\n",
    "import random\n",
    "x=[]\n",
    "y=[]\n",
    "r=np.arange(1,1001,1)\n",
    "for i in range(1000):\n",
    "    a=random.randint(0,999)\n",
    "    r[a],r[i]=r[i],r[a]\n",
    "    x.append(r)\n",
    "for i in range(1000):\n",
    "    a=random.randint(0,999)\n",
    "    r[a],r[i]=r[i],r[a]\n",
    "    y.append(r)\n",
    "def list_baki(a,b) :\n",
    "    c=[]\n",
    "    for i in range(0,len(a)) :\n",
    "        r=a[i]-b[i]\n",
    "        c.append(r)\n",
    "    return c\n",
    "print(list_baki(x,y))\n"
   ]
  },
  {
   "cell_type": "code",
   "execution_count": 44,
   "metadata": {},
   "outputs": [
    {
     "data": {
      "image/png": "[encoded data removed]",
      "text/plain": [
       "<Figure size 432x288 with 1 Axes>"
      ]
     },
     "metadata": {
      "needs_background": "light"
     },
     "output_type": "display_data"
    }
   ],
   "source": [
    "def list_baki(a,b) :\n",
    "    c=[]\n",
    "    for i in range(0,len(a)) :\n",
    "        r=a[i]-b[i]\n",
    "        c.append(r)\n",
    "    return c\n",
    "import numpy as np\n",
    "import random\n",
    "import matplotlib.pyplot as plt\n",
    "x=[]\n",
    "y=[]\n",
    "r1=np.arange(1,1001,1)\n",
    "r2=np.arange(1,1001,1)\n",
    "for i in range(1000):\n",
    "    a=random.randint(0,999)\n",
    "    r1[a],r1[i]=r1[i],r1[a]\n",
    "for i in range(1000):\n",
    "    b=random.randint(0,999)\n",
    "    r2[b],r2[i]=r2[i],r2[b]\n",
    "m_list=[]\n",
    "for i in range(10000):\n",
    "    m=sum(list_baki(r1,r2))/100\n",
    "    m_list.append(m)\n",
    "plt.hist(m_list)\n",
    "plt.title('the mean of the difference between items')\n",
    "plt.ylabel('Number')\n",
    "plt.xlabel('difference')\n",
    "plt.show()\n"
   ]
  },
  {
   "cell_type": "code",
   "execution_count": 25,
   "metadata": {},
   "outputs": [
    {
     "name": "stdout",
     "output_type": "stream",
     "text": [
      "<function list_baki at 0x7fc87816ec80>\n"
     ]
    }
   ],
   "source": [
    "import numpy as np\n",
    "import random\n",
    "def list_random(num):\n",
    "    list1=np.arange(1,num+1,1)\n",
    "    for i in range(num):\n",
    "        swp=random.randint(0,num-1)\n",
    "        list1[swp],list1[i]=list1[i],list1[swp]\n",
    "    return list1\n",
    "def list_baki(a,b) :\n",
    "    c=[]\n",
    "    for i in range(0,len(a)) :\n",
    "        r=a[i]-b[i]\n",
    "        c.append(r)\n",
    "    return c\n",
    "x1=[]\n",
    "y1=[]\n",
    "\n",
    "for i in range(100):\n",
    "    x1=list_random(100)\n",
    "    y1=list_random(100)\n",
    "    list_baki(x1,y1)\n",
    "    \n",
    "print(list_baki)\n",
    "    \n",
    "        \n",
    "    "
   ]
  },
  {
   "cell_type": "code",
   "execution_count": null,
   "metadata": {},
   "outputs": [],
   "source": []
  }
 ],
 "metadata": {
  "kernelspec": {
   "display_name": "Python 3",
   "language": "python",
   "name": "python3"
  },
  "language_info": {
   "codemirror_mode": {
    "name": "ipython",
    "version": 3
   },
   "file_extension": ".py",
   "mimetype": "text/x-python",
   "name": "python",
   "nbconvert_exporter": "python",
   "pygments_lexer": "ipython3",
   "version": "3.6.7"
  }
 },
 "nbformat": 4,
 "nbformat_minor": 2
}
